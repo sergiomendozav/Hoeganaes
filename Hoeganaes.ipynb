{
 "cells": [
  {
   "cell_type": "code",
   "execution_count": 1,
   "metadata": {},
   "outputs": [],
   "source": [
    "import pandas as pd\n",
    "import os\n",
    "import glob\n",
    "import seaborn as sns\n",
    "import matplotlib.pyplot as plt\n",
    "import numpy as np\n",
    "from bokeh.plotting import figure, show, output_file"
   ]
  },
  {
   "cell_type": "code",
   "execution_count": 2,
   "metadata": {},
   "outputs": [],
   "source": [
    "#path ='/home/sergiomendozav/Documents/Hoeganaes/EAF/Logs' path on ubuntu at home\n",
    "path = '/home/sergio/Documents/Hoeganaes/EAF/Logs/LogsOk'"
   ]
  },
  {
   "cell_type": "code",
   "execution_count": 3,
   "metadata": {},
   "outputs": [],
   "source": [
    "allFiles = glob.glob(path + \"/*.csv\")\n",
    "frame = pd.DataFrame()"
   ]
  },
  {
   "cell_type": "code",
   "execution_count": 35,
   "metadata": {},
   "outputs": [],
   "source": [
    "Heats = pd.DataFrame()\n",
    "list_ = []"
   ]
  },
  {
   "cell_type": "code",
   "execution_count": null,
   "metadata": {},
   "outputs": [],
   "source": [
    "for file_ in allFiles:\n",
    "    df = pd.read_csv(file_) #index_col='Time', parse_dates=True\n",
    "    df.HeatNumber0LSW = int(file_[-9:-4]) #This is to set the HeatNumber0LSW \n",
    "    #with the correct Heat Number since there is a Bug in the Reporter with the Heat No.\n",
    "    #during the conversion to CSV from RPH\n",
    "    list_.append(df)\n",
    "frame = pd.concat(list_, axis='rows')"
   ]
  },
  {
   "cell_type": "code",
   "execution_count": null,
   "metadata": {},
   "outputs": [],
   "source": [
    "Columns_list = frame.columns.values.tolist() #this will bring the columns to a list\n",
    "\n",
    "List = [X for X in Columns_list if 'ZFe' in X]\n",
    "del Columns_list[0]\n",
    "#olumns_list[:10]"
   ]
  },
  {
   "cell_type": "code",
   "execution_count": 37,
   "metadata": {},
   "outputs": [],
   "source": [
    "frame['AvgCurrent'] = (frame.Current1 + frame.Current2 + frame.Current3)/3\n",
    "frameNoZeros = frame[frame['AvgCurrent']>5]  #Frame without zeros on current\n",
    "\n",
    "HeatGroupNoZeros = frameNoZeros.groupby('HeatNumber0LSW') #This only to get\n",
    "#the average current without zeros.\n",
    "HeatGroup = frame.groupby('HeatNumber0LSW')"
   ]
  },
  {
   "cell_type": "code",
   "execution_count": 42,
   "metadata": {},
   "outputs": [],
   "source": [
    "for var in Columns_list:\n",
    "    Heats[var] = HeatGroup[var].mean()\n"
   ]
  },
  {
   "cell_type": "code",
   "execution_count": 73,
   "metadata": {},
   "outputs": [],
   "source": [
    "Heats['Current1'] = HeatGroupNoZeros['Current1'].mean()\n",
    "Heats['Current2'] = HeatGroupNoZeros['Current2'].mean()\n",
    "Heats['Current3'] = HeatGroupNoZeros['Current3'].mean()\n",
    "\n",
    "Heats['HeatNumber3MSW'] = HeatGroup['HeatNumber3MSW'].last()\n",
    "Heats['HeatNumber2'] = HeatGroup['HeatNumber2'].last()\n",
    "Heats['HeatNumber1'] = HeatGroup['HeatNumber1'].last()\n",
    "Heats['HeatNumber0LSW'] = HeatGroup['HeatNumber0LSW'].last()\n",
    "Heats['ActualCHRG_PX3'] = HeatGroup['ActualCHRG_PX3'].last()\n",
    "Heats['ChargeWt1Tons'] = HeatGroup['ChargeWt1Tons'].last()\n",
    "Heats['ChargeWt2Tons'] = HeatGroup['ChargeWt2Tons'].last()\n",
    "Heats['ChargeWt3Tons'] = HeatGroup['ChargeWt3Tons'].last()\n",
    "Heats['ChargeWt4Tons'] = HeatGroup['ChargeWt4Tons'].last()\n",
    "Heats['ChargeWt5Tons'] = HeatGroup['ChargeWt5Tons'].last()\n",
    "Heats['ChargeWt6Tons'] = HeatGroup['ChargeWt6Tons'].last()\n",
    "Heats['ChargeWt7Tons'] = HeatGroup['ChargeWt7Tons'].last()\n",
    "Heats['ChargeWt8Tons'] = HeatGroup['ChargeWt8Tons'].last()\n",
    "Heats['ChargeWt9Tons'] = HeatGroup['ChargeWt9Tons'].last()\n",
    "Heats['ChargeWt10Tons'] = HeatGroup['ChargeWt10Tons'].last()\n",
    "Heats['ChargeWt11Tons'] = HeatGroup['ChargeWt11Tons'].last()\n",
    "Heats['ChargeWt12Tons'] = HeatGroup['ChargeWt12Tons'].last()\n",
    "Heats['PwrProgNumberOV'] = HeatGroup['PwrProgNumberOV'].last()\n",
    "Heats['SmartArcNumberOV'] = HeatGroup['SmartArcNumberOV'].last()\n",
    "Heats['Ontime_PX3'] = HeatGroup['Ontime_PX3'].last()\n",
    "Heats['OffTime_PX3'] = HeatGroup['OffTime_PX3'].last()\n",
    "Heats['MWH_PX3'] = HeatGroup['MWH_PX3'].last()\n",
    "Heats['ChargeMWH_PX3'] = HeatGroup['ChargeMWH_PX3'].last()\n",
    "Heats['PwrPrgNum'] = HeatGroup['PwrPrgNum'].last()\n",
    "Heats['NCCcounter1'] = HeatGroup['NCCcounter1'].last()\n",
    "Heats['NCCcounter2'] = HeatGroup['NCCcounter2'].last()\n",
    "Heats['NCCcounter3'] = HeatGroup['NCCcounter3'].last()\n",
    "Heats['CIcounter1'] = HeatGroup['CIcounter1'].last()\n",
    "Heats['CIcounter2'] = HeatGroup['CIcounter2'].last()\n",
    "Heats['CIcounter3'] = HeatGroup['CIcounter3'].last()\n",
    "Heats['I2H1'] = HeatGroup['I2H1'].last()                   \n",
    "Heats['I2H2'] = HeatGroup['I2H2'].last()\n",
    "Heats['I2H3'] = HeatGroup['I2H3'].last()\n",
    "Heats['ChargeI2H1'] = HeatGroup['ChargeI2H1'].last()\n",
    "Heats['ChargeI2H2'] = HeatGroup['ChargeI2H2'].last()\n",
    "Heats['ChargeI2H3'] = HeatGroup['ChargeI2H3'].last()\n",
    "Heats['HeatRWI1'] = HeatGroup['HeatRWI1'].last()                   \n",
    "Heats['HeatRWI2'] = HeatGroup['HeatRWI2'].last()\n",
    "Heats['HeatRWI3'] = HeatGroup['HeatRWI3'].last()\n",
    "Heats['ChargeRWI1'] = HeatGroup['ChargeRWI1'].last()\n",
    "Heats['ChargeRWI2'] = HeatGroup['ChargeRWI2'].last()\n",
    "Heats['ChargeRWI3'] = HeatGroup['ChargeRWI3'].last()\n",
    "Heats['TransformerTap'] = HeatGroup['TransformerTap'].max()\n",
    "Heats['HeatMWHPLC'] = HeatGroup['HeatMWHPLC'].last()\n",
    "Heats['ChrgMWH'] = HeatGroup['ChrgMWH'].last()\n",
    "Heats['ChargeNumb'] = HeatGroup['ChargeNumb'].last()\n",
    "Heats['ChargeWt1'] = HeatGroup['ChargeWt1'].last()\n",
    "Heats['ChargeWt2'] = HeatGroup['ChargeWt2'].last()\n",
    "Heats['ChargeWt3'] = HeatGroup['ChargeWt3'].last()\n",
    "Heats['ChargeWt4'] = HeatGroup['ChargeWt4'].last()\n",
    "Heats['ChargeWt5'] = HeatGroup['ChargeWt5'].last()\n",
    "Heats['PwrOnTime'] = HeatGroup['PwrOnTime'].last()\n",
    "Heats['TapTapTime'] = HeatGroup['TapTapTime'].last()\n",
    "Heats['I2T1'] = HeatGroup['I2T1'].last()\n",
    "Heats['I2T2'] = HeatGroup['I2T2'].last()\n",
    "Heats['I2T3'] = HeatGroup['I2T3'].last()\n",
    "Heats['CarbInject'] = HeatGroup['CarbInject'].last()\n",
    "Heats['MasterProgramLog'] = HeatGroup['MasterProgramLog'].last()\n",
    "Heats['HeatWt'] = HeatGroup['HeatWt'].last()\n",
    "Heats['HeatKWHperTon'] = HeatGroup['HeatKWHperTon'].last()\n",
    "Heats['ChargeKWHperTon'] = HeatGroup['ChargeKWHperTon'].last()\n",
    "Heats['OperKwhPerTon'] = HeatGroup['OperKwhPerTon'].last()\n",
    "Heats['HeatAvgMW'] = HeatGroup['HeatAvgMW'].last()\n",
    "Heats['HeatI2HperMWH'] = HeatGroup['HeatI2HperMWH'].last()\n",
    "Heats['HeatAvgI2H'] = HeatGroup['HeatAvgI2H'].last()\n",
    "Heats['ChargeAvgMW'] = HeatGroup['ChargeAvgMW'].last()                \n",
    "Heats['ChrgI2HperMWH'] = HeatGroup['ChrgI2HperMWH'].last()\n",
    "Heats['ChrgAvgI2H'] = HeatGroup['ChrgAvgI2H'].last()\n",
    "Heats['PowerProg'] = HeatGroup['PowerProg'].last()\n",
    "Heats['BalanceProg'] = HeatGroup['BalanceProg'].last()\n",
    "Heats['BackChrgProg'] = HeatGroup['BackChrgProg'].last()\n",
    "Heats['BurnerProg'] = HeatGroup['BurnerProg'].last()              #should be oxiprofile\n",
    "Heats['ValidTempSample'] = HeatGroup['ValidTempSample'].last()      \n",
    "Heats['ValidPPMSample'] = HeatGroup['ValidPPMSample'].last()\n",
    "Heats['ValidCarbonSample'] = HeatGroup['ValidCarbonSample'].last()\n",
    "Heats['ValidNewSample'] = HeatGroup['ValidNewSample'].last()\n",
    "Heats['LimeCharged'] = HeatGroup['LimeCharged'].last()\n",
    "Heats['Tot_LimeInj'] = HeatGroup['Tot_LimeInj'].last()\n",
    "Heats['Charge_Carb'] = HeatGroup['Charge_Carb'].last()\n",
    "Heats['B1_GasCns'] = HeatGroup['B1_GasCns'].last()\n",
    "Heats['B1_O2MainCns'] = HeatGroup['B1_O2MainCns'].last()\n",
    "Heats['B1_CarbonCns'] = HeatGroup['B1_CarbonCns'].last()\n",
    "Heats['B2_GasCns'] = HeatGroup['B2_GasCns'].last()\n",
    "Heats['B2_O2MainCns'] = HeatGroup['B2_O2MainCns'].last()\n",
    "Heats['B2_CarbonCns'] = HeatGroup['B2_CarbonCns'].last()\n",
    "Heats['B3_GasCns'] = HeatGroup['B3_GasCns'].last()\n",
    "Heats['B3_O2MainCns'] = HeatGroup['B3_O2MainCns'].last()\n",
    "Heats['B3_LimeCns'] = HeatGroup['B3_LimeCns'].last()\n",
    "Heats['TotalGasCns'] = HeatGroup['TotalGasCns'].last()\n",
    "Heats['TotalO2Cns'] = HeatGroup['TotalO2Cns'].last()\n",
    "Heats['AdditionsLimeCharge'] = HeatGroup['AdditionsLimeCharge'].last()\n",
    "Heats['AdditionsCarbCharg'] = HeatGroup['AdditionsCarbCharg'].last()\n",
    "Heats['AdditionsLimeInj'] = HeatGroup['AdditionsLimeInj'].last()\n",
    "Heats['AdditionsCarbInj'] = HeatGroup['AdditionsCarbInj'].last()\n",
    "Heats['Scrap1Wt'] = HeatGroup['Scrap1Wt'].last()\n",
    "Heats['Scrap2Wt'] = HeatGroup['Scrap2Wt'].last()\n",
    "Heats['Scrap3Wt'] = HeatGroup['Scrap3Wt'].last()\n",
    "Heats['Scrap4Wt'] = HeatGroup['Scrap4Wt'].last()\n",
    "Heats['Scrap5Wt'] = HeatGroup['Scrap5Wt'].last()\n",
    "Heats['Scrap6Wt'] = HeatGroup['Scrap6Wt'].last()\n",
    "Heats['Scrap7Wt'] = HeatGroup['Scrap7Wt'].last()\n",
    "Heats['Scrap8Wt'] = HeatGroup['Scrap8Wt'].last()\n",
    "Heats['Scrap9Wt'] = HeatGroup['Scrap9Wt'].last()\n",
    "Heats['Scrap10Wt'] = HeatGroup['Scrap10Wt'].last()"
   ]
  },
  {
   "cell_type": "markdown",
   "metadata": {},
   "source": [
    "## Creating Overview Dataframe"
   ]
  },
  {
   "cell_type": "code",
   "execution_count": null,
   "metadata": {},
   "outputs": [],
   "source": [
    "\n",
    "#OverviewList = []\n",
    "#OverviewList.append(Heats['Ontime_PX3'].mean()) \n",
    "\n",
    "#OverviewList\n",
    "\n",
    "#Overview = pd.DataFrame()\n",
    "#Overview['Power On Time'] = OverviewList\n",
    "#Overview['Power On Time']\n"
   ]
  },
  {
   "cell_type": "markdown",
   "metadata": {},
   "source": [
    "# Export Excel"
   ]
  },
  {
   "cell_type": "code",
   "execution_count": 62,
   "metadata": {},
   "outputs": [],
   "source": [
    "writer = pd.ExcelWriter('Heats.xlsx')\n",
    "Heats.to_excel(writer,'Heats')\n",
    "Overview.to_excel(writer,'Overview') #make overview Dataframe\n",
    "writer.save()"
   ]
  },
  {
   "cell_type": "code",
   "execution_count": null,
   "metadata": {},
   "outputs": [],
   "source": [
    "#Heats.loc[19096,:]  #returns all columns for that specific Heat"
   ]
  },
  {
   "cell_type": "code",
   "execution_count": null,
   "metadata": {},
   "outputs": [],
   "source": [
    "#CarbonCnsMax = HeatGroup[['B1_CarbonCns','B2_CarbonCns']].max()\n",
    "#CarbonCnsMax.plot(style='.-')\n",
    "#plt.show()\n",
    "\n",
    "#HeatGroup.PrimaryVolts.mean().plot(style='.')\n",
    "#plt.show()"
   ]
  },
  {
   "cell_type": "code",
   "execution_count": null,
   "metadata": {},
   "outputs": [],
   "source": [
    "# toplot = frame['Current1'][frame['HeatNumber0LSW']==19096]  this way I can trend a specific variable of a specific heat\n",
    "#toplot = frame['Current1'][frame['HeatNumber0LSW']==19096]\n",
    "#toplot = frame['Current1'][frame['HeatNumber0LSW']==19096][500:1000] #to get specific time range from 600 to 1050\n",
    "#toplot.plot()\n",
    "#plt.show()\n",
    "#toplot.mean()"
   ]
  },
  {
   "cell_type": "code",
   "execution_count": null,
   "metadata": {},
   "outputs": [],
   "source": []
  }
 ],
 "metadata": {
  "kernelspec": {
   "display_name": "Python 3",
   "language": "python",
   "name": "python3"
  },
  "language_info": {
   "codemirror_mode": {
    "name": "ipython",
    "version": 3
   },
   "file_extension": ".py",
   "mimetype": "text/x-python",
   "name": "python",
   "nbconvert_exporter": "python",
   "pygments_lexer": "ipython3",
   "version": "3.6.5"
  }
 },
 "nbformat": 4,
 "nbformat_minor": 2
}
